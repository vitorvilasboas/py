{
  "cells": [
    {
      "cell_type": "markdown",
      "metadata": {
        "id": "view-in-github",
        "colab_type": "text"
      },
      "source": [
        "<a href=\"https://colab.research.google.com/github/vitorvilasboas/py/blob/master/notebooks/012_np_arrays1.ipynb\" target=\"_parent\"><img src=\"https://colab.research.google.com/assets/colab-badge.svg\" alt=\"Open In Colab\"/></a>"
      ]
    },
    {
      "cell_type": "markdown",
      "metadata": {
        "id": "E8OEQ1edt9c-"
      },
      "source": [
        "# NumPy \n",
        "\n",
        "NumPy (ou Numpy) é uma biblioteca de álgebra linear para Python, a razão pela qual é tão importante para a Data Science com Python é que quase todas as bibliotecas dependem do NumPy como um dos seus principais blocos de construção.\n",
        "\n",
        "Numpy também é incrivelmente rápido, pois tem ligações para bibliotecas C."
      ]
    },
    {
      "cell_type": "markdown",
      "metadata": {
        "id": "J-VxmVeZt9dA"
      },
      "source": [
        "## Instruções de instalação\n",
        "\n",
        "** É altamente recomendável que instale o Python usando a distribuição da Anaconda para garantir que todas as dependências subjacentes (como as bibliotecas de Álgebra Linear) se sincronizem com o uso de uma instalação conda. Se você tiver o Anaconda, instale o NumPy acessando seu terminal ou prompt de comando e digite: **\n",
        "\n",
        "    conda install numpy"
      ]
    },
    {
      "cell_type": "markdown",
      "metadata": {
        "id": "2R69xmuOt9dB"
      },
      "source": [
        "## Usando NumPy\n",
        "\n",
        "Depois de instalar o NumPy, você pode importá-lo como uma biblioteca:"
      ]
    },
    {
      "cell_type": "code",
      "execution_count": null,
      "metadata": {
        "collapsed": true,
        "id": "2srvwooEt9dC"
      },
      "outputs": [],
      "source": [
        "import numpy as np"
      ]
    },
    {
      "cell_type": "markdown",
      "metadata": {
        "id": "hz8cFX2qt9dD"
      },
      "source": [
        "Numpy possui muitas funções e capacidades incorporadas. Não vamos cobri-los na totalidade, mas, em vez disso, vamos nos concentrar em alguns dos aspectos mais importantes de Numpy: vetores, arrays, matrizes e geração de números. Comecemos por arrays:\n",
        "\n",
        "# Numpy Arrays\n",
        "\n",
        "As matrizes de NumPy são a maneira principal de usar Numpy ao longo do curso. Numpy arrays essencialmente vêm de duas formas: vetores e matrizes. Os vetores são estritamente arranjos de 1d e as matrizes são 2d (mas você deve observar que uma matriz ainda pode ter apenas uma linha ou uma coluna).\n",
        "\n",
        "Vamos começar nossa introdução explorando como criar matrizes numPy.\n",
        "\n",
        "\n",
        "## Criando NumPy Arrays\n",
        "\n",
        "### De uma lista de Python\n",
        "\n",
        "Podemos criar uma matriz convertendo diretamente uma lista ou lista de listas:"
      ]
    },
    {
      "cell_type": "code",
      "execution_count": null,
      "metadata": {
        "id": "thF5rMMBt9dD"
      },
      "outputs": [],
      "source": [
        "minha_lista = [1,2,3]\n",
        "minha_lista"
      ]
    },
    {
      "cell_type": "code",
      "execution_count": null,
      "metadata": {
        "id": "Bw-QUjUGt9dE"
      },
      "outputs": [],
      "source": [
        "np.array(minha_lista)"
      ]
    },
    {
      "cell_type": "code",
      "execution_count": null,
      "metadata": {
        "id": "BxxtO3ybt9dF"
      },
      "outputs": [],
      "source": [
        "minha_matriz = [[1,2,3],[4,5,6],[7,8,9]]\n",
        "minha_matriz"
      ]
    },
    {
      "cell_type": "code",
      "execution_count": null,
      "metadata": {
        "id": "kROJ4BGLt7pR"
      },
      "outputs": [],
      "source": [
        "x = np.array(minha_matriz)"
      ]
    },
    {
      "cell_type": "code",
      "execution_count": null,
      "metadata": {
        "id": "lA75VniVt7pR"
      },
      "outputs": [],
      "source": [
        "x\n",
        "x.shape"
      ]
    },
    {
      "cell_type": "markdown",
      "metadata": {
        "id": "CeePCmlJt9dF"
      },
      "source": [
        "## Métodos incorporados (Built-in Methods)\n",
        "\n",
        "Há muitas maneiras embutidas de gerar Arrays"
      ]
    },
    {
      "cell_type": "markdown",
      "metadata": {
        "id": "7_EAIaA8t9dF"
      },
      "source": [
        "### arange\n",
        "\n",
        "Retorna valores uniformemente espaçados dentro de um determinado intervalo."
      ]
    },
    {
      "cell_type": "code",
      "execution_count": null,
      "metadata": {
        "id": "p6r6wxZNt9dG"
      },
      "outputs": [],
      "source": [
        "np.arange(0,10)"
      ]
    },
    {
      "cell_type": "code",
      "execution_count": null,
      "metadata": {
        "id": "iJsUma3Pt9dG"
      },
      "outputs": [],
      "source": [
        "np.arange(0,11,2)"
      ]
    },
    {
      "cell_type": "markdown",
      "metadata": {
        "id": "5E5eiEu4t9dG"
      },
      "source": [
        "### zeros e ones\n",
        "\n",
        "Gerar matrizes de zeros ou de ums"
      ]
    },
    {
      "cell_type": "code",
      "execution_count": null,
      "metadata": {
        "id": "1wRiZeCht7pU"
      },
      "outputs": [],
      "source": [
        "np.zeros(3, dtype=int)"
      ]
    },
    {
      "cell_type": "code",
      "execution_count": null,
      "metadata": {
        "id": "bSy5J7Ynt7pU"
      },
      "outputs": [],
      "source": [
        "np.zeros((5,5), dtype=int)"
      ]
    },
    {
      "cell_type": "code",
      "execution_count": null,
      "metadata": {
        "id": "B_A20Atut7pU"
      },
      "outputs": [],
      "source": [
        "np.ones(3)"
      ]
    },
    {
      "cell_type": "code",
      "execution_count": null,
      "metadata": {
        "id": "KZ5WOoLzt7pU"
      },
      "outputs": [],
      "source": [
        "2*np.ones((3,3))"
      ]
    },
    {
      "cell_type": "markdown",
      "metadata": {
        "id": "Njev3SWXt9dH"
      },
      "source": [
        "### linspace\n",
        "Retorna números uniformemente espaçados ao longo de um intervalo especificado."
      ]
    },
    {
      "cell_type": "code",
      "execution_count": null,
      "metadata": {
        "id": "zn7UKP-Yt9dH"
      },
      "outputs": [],
      "source": [
        "np.linspace(0,10,3, endpoint=False)"
      ]
    },
    {
      "cell_type": "code",
      "execution_count": null,
      "metadata": {
        "id": "xbovmrzXt9dH"
      },
      "outputs": [],
      "source": [
        "np.linspace(0,10,50)"
      ]
    },
    {
      "cell_type": "markdown",
      "metadata": {
        "id": "Jo5Fiqmet9dI"
      },
      "source": [
        "## eye\n",
        "\n",
        "Cria uma matriz identidade"
      ]
    },
    {
      "cell_type": "code",
      "execution_count": null,
      "metadata": {
        "id": "m1MaGoPHt9dI"
      },
      "outputs": [],
      "source": [
        "np.eye(4)"
      ]
    },
    {
      "cell_type": "code",
      "source": [
        "np.identity(4)"
      ],
      "metadata": {
        "id": "3hG1oMsAvh4X"
      },
      "execution_count": null,
      "outputs": []
    },
    {
      "cell_type": "markdown",
      "metadata": {
        "id": "0Sor-f0Nt9dI"
      },
      "source": [
        "## Random \n",
        "\n",
        "Numpy também tem muitas maneiras de criar arrays de números aleatórios:\n",
        "\n",
        "### rand\n",
        "Cria uma matriz da forma dada e preencha com amostras aleatórias de uma distribuição uniforme sobre ``[0, 1)``."
      ]
    },
    {
      "cell_type": "code",
      "execution_count": null,
      "metadata": {
        "id": "4JrjoC66t9dI"
      },
      "outputs": [],
      "source": [
        "np.random.rand(2)"
      ]
    },
    {
      "cell_type": "code",
      "execution_count": null,
      "metadata": {
        "id": "MbsMBxY0t9dI"
      },
      "outputs": [],
      "source": [
        "np.random.rand(5,5)"
      ]
    },
    {
      "cell_type": "markdown",
      "metadata": {
        "id": "X7jKc0nUt9dI"
      },
      "source": [
        "### randn\n",
        "\n",
        "Retorna uma amostra (ou amostras) da distribuição \"normal\". Ao contrário de rand, que é uniforme:"
      ]
    },
    {
      "cell_type": "code",
      "execution_count": null,
      "metadata": {
        "id": "0KZ1a6MEt9dJ"
      },
      "outputs": [],
      "source": [
        "np.random.randn(2)"
      ]
    },
    {
      "cell_type": "code",
      "execution_count": null,
      "metadata": {
        "id": "VmxoZO7kt9dJ"
      },
      "outputs": [],
      "source": [
        "np.random.randn(5,5)"
      ]
    },
    {
      "cell_type": "markdown",
      "metadata": {
        "id": "9dk6SAAxt9dJ"
      },
      "source": [
        "### randint\n",
        "Retorna inteiros aleatórios de \"low\" (inclusive) para \"high\" (exclusivo)."
      ]
    },
    {
      "cell_type": "code",
      "execution_count": null,
      "metadata": {
        "id": "5iyariWct9dJ"
      },
      "outputs": [],
      "source": [
        "np.random.randint(1,100)"
      ]
    },
    {
      "cell_type": "code",
      "execution_count": null,
      "metadata": {
        "id": "bK6sBwM3t9dJ"
      },
      "outputs": [],
      "source": [
        "np.random.randint(1,100,10)"
      ]
    },
    {
      "cell_type": "markdown",
      "metadata": {
        "id": "Qeg9bmA_t9dK"
      },
      "source": [
        "## Atributos de Array e Métodos\n",
        "\n",
        "Vamos discutir alguns atributos e métodos úteis ou uma matriz:"
      ]
    },
    {
      "cell_type": "code",
      "execution_count": null,
      "metadata": {
        "collapsed": true,
        "id": "cnYvUlpDt9dK"
      },
      "outputs": [],
      "source": [
        "arr = np.arange(25)\n",
        "ranarr = np.random.randint(0,50,10)"
      ]
    },
    {
      "cell_type": "code",
      "execution_count": null,
      "metadata": {
        "id": "JZ9j4cWft9dK"
      },
      "outputs": [],
      "source": [
        "arr"
      ]
    },
    {
      "cell_type": "code",
      "execution_count": null,
      "metadata": {
        "id": "aLRfT5r8t9dK"
      },
      "outputs": [],
      "source": [
        "ranarr"
      ]
    },
    {
      "cell_type": "markdown",
      "metadata": {
        "id": "flEiAnzxt9dL"
      },
      "source": [
        "## Reshape\n",
        "Retorna uma matriz contendo os mesmos dados com uma nova forma."
      ]
    },
    {
      "cell_type": "code",
      "execution_count": null,
      "metadata": {
        "id": "WGddWb6Tt9dL"
      },
      "outputs": [],
      "source": [
        "arr.reshape(5,5)"
      ]
    },
    {
      "cell_type": "markdown",
      "metadata": {
        "id": "IjrTdEUHt9dL"
      },
      "source": [
        "### max,min,argmax,argmin\n",
        "\n",
        "Estes são métodos úteis para encontrar valores máximos ou mínimos, ou para encontrar seus locais de índice usando argmin ou argmax"
      ]
    },
    {
      "cell_type": "code",
      "execution_count": null,
      "metadata": {
        "id": "dd5Gfs4dt9dL"
      },
      "outputs": [],
      "source": [
        "ranarr"
      ]
    },
    {
      "cell_type": "code",
      "execution_count": null,
      "metadata": {
        "id": "fJ7d01hPt9dL"
      },
      "outputs": [],
      "source": [
        "ranarr.max()"
      ]
    },
    {
      "cell_type": "code",
      "execution_count": null,
      "metadata": {
        "id": "KNJ8Ojhat9dL"
      },
      "outputs": [],
      "source": [
        "ranarr.argmax()"
      ]
    },
    {
      "cell_type": "code",
      "execution_count": null,
      "metadata": {
        "id": "8sm6K-Knt9dM"
      },
      "outputs": [],
      "source": [
        "ranarr.min()"
      ]
    },
    {
      "cell_type": "code",
      "execution_count": null,
      "metadata": {
        "id": "Ck5wkjYht9dM"
      },
      "outputs": [],
      "source": [
        "ranarr.argmin()"
      ]
    },
    {
      "cell_type": "markdown",
      "metadata": {
        "id": "-ogtyfYxt9dM"
      },
      "source": [
        "## Shape\n",
        "\n",
        "Shape é um atributo que os arrays têm (não um método):"
      ]
    },
    {
      "cell_type": "code",
      "execution_count": null,
      "metadata": {
        "id": "Apc1oZtkt9dM"
      },
      "outputs": [],
      "source": [
        "# Vector\n",
        "arr.shape"
      ]
    },
    {
      "cell_type": "code",
      "execution_count": null,
      "metadata": {
        "id": "-r5LsaFRt9dM"
      },
      "outputs": [],
      "source": [
        "arr.reshape(1,25)"
      ]
    },
    {
      "cell_type": "code",
      "execution_count": null,
      "metadata": {
        "id": "gvz7T1sWt9dM"
      },
      "outputs": [],
      "source": [
        "arr.reshape(1,25).shape"
      ]
    },
    {
      "cell_type": "code",
      "execution_count": null,
      "metadata": {
        "id": "F0PyLpCYt9dN"
      },
      "outputs": [],
      "source": [
        "arr.reshape(25,1)"
      ]
    },
    {
      "cell_type": "code",
      "execution_count": null,
      "metadata": {
        "id": "Vu8w2DnYt9dN"
      },
      "outputs": [],
      "source": [
        "arr.reshape(25,1).shape"
      ]
    },
    {
      "cell_type": "markdown",
      "metadata": {
        "id": "Dy2eBJ-Ft9dN"
      },
      "source": [
        "### dtype\n",
        "Você também pode pegar o tipo de dados do objeto na matriz:"
      ]
    },
    {
      "cell_type": "code",
      "execution_count": null,
      "metadata": {
        "id": "I-Fb5twgt9dN"
      },
      "outputs": [],
      "source": [
        "arr.dtype"
      ]
    },
    {
      "cell_type": "markdown",
      "source": [
        "---"
      ],
      "metadata": {
        "id": "_QpBEaSlwQ0o"
      }
    },
    {
      "cell_type": "code",
      "execution_count": null,
      "metadata": {
        "id": "L8571L-7t7pc"
      },
      "outputs": [],
      "source": [
        "x = np.ones(50)\n",
        "# x = x.reshape(1,50)"
      ]
    },
    {
      "cell_type": "code",
      "execution_count": null,
      "metadata": {
        "id": "CkphfCUPt7pc"
      },
      "outputs": [],
      "source": [
        "x = x.reshape(1,50)"
      ]
    },
    {
      "cell_type": "code",
      "execution_count": null,
      "metadata": {
        "id": "XYa4Cjr8t7pc"
      },
      "outputs": [],
      "source": [
        "x.shape"
      ]
    },
    {
      "cell_type": "code",
      "execution_count": null,
      "metadata": {
        "id": "IkVmciyXt7pd"
      },
      "outputs": [],
      "source": [
        "y = np.zeros(50).reshape(1,50)"
      ]
    },
    {
      "cell_type": "code",
      "execution_count": null,
      "metadata": {
        "id": "ak80_ZWlt7pd"
      },
      "outputs": [],
      "source": [
        "y.shape"
      ]
    },
    {
      "cell_type": "code",
      "execution_count": null,
      "metadata": {
        "id": "ZIn0GCrNt7pd"
      },
      "outputs": [],
      "source": [
        "z = np.concatenate([x,y])"
      ]
    },
    {
      "cell_type": "code",
      "execution_count": null,
      "metadata": {
        "id": "VUavWract7pd"
      },
      "outputs": [],
      "source": [
        "z.shape"
      ]
    },
    {
      "cell_type": "code",
      "execution_count": null,
      "metadata": {
        "id": "RwpPQvXTt7pd"
      },
      "outputs": [],
      "source": [
        "z.T"
      ]
    },
    {
      "cell_type": "code",
      "execution_count": null,
      "metadata": {
        "id": "wIMbWZjwt7pe"
      },
      "outputs": [],
      "source": [
        "np.transpose"
      ]
    }
  ],
  "metadata": {
    "kernelspec": {
      "display_name": "Python 3",
      "language": "python",
      "name": "python3"
    },
    "language_info": {
      "codemirror_mode": {
        "name": "ipython",
        "version": 3
      },
      "file_extension": ".py",
      "mimetype": "text/x-python",
      "name": "python",
      "nbconvert_exporter": "python",
      "pygments_lexer": "ipython3",
      "version": "3.7.3"
    },
    "colab": {
      "provenance": [],
      "include_colab_link": true
    }
  },
  "nbformat": 4,
  "nbformat_minor": 0
}